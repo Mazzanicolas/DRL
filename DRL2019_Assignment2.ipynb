{
 "cells": [
  {
   "cell_type": "markdown",
   "metadata": {
    "colab_type": "text",
    "id": "H60DVrDg1_Gq"
   },
   "source": [
    "# DRL 2019 Assignment 2: Reinforcement Learning\n",
    "\n",
    "## Total: 150 points\n",
    "\n",
    "\n",
    "**Please do not distribute without permission.**\n",
    "\n",
    "\n",
    "*Special thanks to*: Diana Borsa, Hado van Hasselt, Matteo Hessel"
   ]
  },
  {
   "cell_type": "markdown",
   "metadata": {
    "colab_type": "text",
    "id": "9v_SYckYfv5G"
   },
   "source": [
    "## Content\n",
    "\n",
    "In this assignment, we will investigate the properties of 4 distinct reinforcement learning algorithms:\n",
    "\n",
    "* Policy Evaluation\n",
    "* Online Control: SARSA, Q-learning\n",
    "* Experience Replay\n",
    "* REINFORCE Algorithm \n",
    "\n",
    "Some dimensions of the RL problems we will be considering:\n",
    "* Tabular vs Function Approximation\n",
    "* Off-policy/On-policy Control\n",
    "* Online vs Replay\n",
    "* Exploration vs Explotation\n",
    "\n",
    "\n",
    "## Background reading\n",
    "\n",
    "* Sutton and Barto (2018), Chapters 3-9\n"
   ]
  },
  {
   "cell_type": "markdown",
   "metadata": {
    "colab_type": "text",
    "id": "rNuohp44N00i"
   },
   "source": [
    "## Objectives\n",
    "\n",
    "You will use Python to implement several reinforcement learning algorithms. Only the second part will deal with functional approximation for which we will be using neural networks to approximate value functions and policies.\n",
    "\n",
    "You will then run these algorithms on a few problems, to understand their properties and different emerging behaviour. In this tutorial we will focus primary on fundamental algorithms in RL and explore them in a simple gridworld setting. That being said, these are algorithms that have now been shown to scale very well with (non-linear) functional approximations. \n"
   ]
  },
  {
   "cell_type": "markdown",
   "metadata": {
    "colab_type": "text",
    "id": "ztQEQvnKh2t6"
   },
   "source": [
    "# Setup"
   ]
  },
  {
   "cell_type": "code",
   "execution_count": 1,
   "metadata": {
    "colab": {},
    "colab_type": "code",
    "id": "Ps5OnkPmDbMX"
   },
   "outputs": [],
   "source": [
    "import matplotlib.pyplot as plt\n",
    "import numpy as np\n",
    "from collections import namedtuple\n",
    "import itertools\n",
    "import tensorflow as tf\n",
    "\n",
    "\n",
    "np.set_printoptions(precision=3, suppress=1)\n",
    "plt.style.use('seaborn-notebook')\n",
    "plt.style.use('seaborn-whitegrid')\n",
    "\n",
    "tf.logging.set_verbosity(tf.logging.ERROR)"
   ]
  },
  {
   "cell_type": "markdown",
   "metadata": {
    "colab_type": "text",
    "id": "ALrRR76eAd6u"
   },
   "source": [
    "## Environments: Grid-Worlds"
   ]
  },
  {
   "cell_type": "markdown",
   "metadata": {
    "colab_type": "text",
    "id": "uMC6nODK1HAV"
   },
   "source": [
    "**(Simple) Tabular Grid-World**\n",
    "\n",
    "You can visualize the grid worlds we will train our agents on, by running the cells below.\n",
    "`S` indicates the start state and `G` indicates the goal.  The agent has four possible actions: up, right, down, and left.  Rewards are: `-5` for bumping into a wall, `+10` for reaching the goal, and `0` otherwise.  The episode ends when the agent reaches the goal, and otherwise continues.  The discount, on continuing steps, is $\\gamma = 0.9$.\n",
    "\n",
    "We will use three distinct GridWorlds:\n",
    "* `Grid` tabular grid world with a goal in the top right of the grid\n",
    "* `AltGrid` tabular grid world with a goal in the bottom left of the grid"
   ]
  },
  {
   "cell_type": "code",
   "execution_count": 2,
   "metadata": {
    "cellView": "both",
    "colab": {},
    "colab_type": "code",
    "id": "YP97bVN3NuG8"
   },
   "outputs": [],
   "source": [
    "#@title Environment: Gridworld Implementation\n",
    "class Grid(object):\n",
    "\n",
    "  def __init__(self, discount=0.9, penalty_for_walls=-5):\n",
    "    # -1: wall\n",
    "    # 0: empty, episode continues\n",
    "    # other: number indicates reward, episode will terminate\n",
    "    self._layout = np.array([\n",
    "      [-1, -1, -1, -1, -1, -1, -1, -1, -1, -1],\n",
    "      [-1,  0,  0,  0,  0,  0, -1,  0,  0, -1],\n",
    "      [-1,  0,  0,  0, -1,  0,  0,  0, 10, -1],\n",
    "      [-1,  0,  0,  0, -1, -1,  0,  0,  0, -1],\n",
    "      [-1,  0,  0,  0, -1, -1,  0,  0,  0, -1],\n",
    "      [-1,  0,  0,  0,  0,  0,  0,  0,  0, -1],\n",
    "      [-1,  0,  0,  0,  0,  0,  0,  0,  0, -1],\n",
    "      [-1,  0,  0,  0,  0,  0,  0,  0,  0, -1],\n",
    "      [-1, -1, -1, -1, -1, -1, -1, -1, -1, -1]\n",
    "    ])\n",
    "    self._start_state = (2, 2)\n",
    "    self._goal_state = (8, 2)\n",
    "    self._state = self._start_state\n",
    "    self._number_of_states = np.prod(np.shape(self._layout))\n",
    "    self._discount = discount\n",
    "    self._penalty_for_walls = penalty_for_walls\n",
    "    self._layout_dims = self._layout.shape\n",
    "\n",
    "  @property\n",
    "  def number_of_states(self):\n",
    "      return self._number_of_states\n",
    "    \n",
    "  def plot_grid(self):\n",
    "    plt.figure(figsize=(3, 3))\n",
    "    plt.imshow(self._layout <= -1, interpolation=\"nearest\")     \n",
    "    ax = plt.gca()\n",
    "    ax.grid(0)\n",
    "    plt.xticks([])\n",
    "    plt.yticks([])\n",
    "    plt.title(\"The grid\")\n",
    "    plt.text(\n",
    "        self._start_state[0], self._start_state[1], \n",
    "        r\"$\\mathbf{S}$\", ha='center', va='center')\n",
    "    plt.text(\n",
    "        self._goal_state[0], self._goal_state[1], \n",
    "        r\"$\\mathbf{G}$\", ha='center', va='center')\n",
    "    h, w = self._layout.shape\n",
    "    for y in range(h-1):\n",
    "      plt.plot([-0.5, w-0.5], [y+0.5, y+0.5], '-k', lw=2)\n",
    "    for x in range(w-1):\n",
    "      plt.plot([x+0.5, x+0.5], [-0.5, h-0.5], '-k', lw=2)\n",
    "\n",
    "  \n",
    "  def get_obs(self):\n",
    "    y, x = self._state\n",
    "    return y*self._layout.shape[1] + x\n",
    "  \n",
    "  def int_to_state(self, int_obs):\n",
    "    x = int_obs % self._layout.shape[1]\n",
    "    y = int_obs // self._layout.shape[1]\n",
    "    return y, x\n",
    "\n",
    "  def step(self, action):\n",
    "    y, x = self._state\n",
    "\n",
    "    if action == 0:  # up\n",
    "      new_state = (y - 1, x)\n",
    "    elif action == 1:  # right\n",
    "      new_state = (y, x + 1)\n",
    "    elif action == 2:  # down\n",
    "      new_state = (y + 1, x)\n",
    "    elif action == 3:  # left\n",
    "      new_state = (y, x - 1)\n",
    "    else:\n",
    "      raise ValueError(\"Invalid action: {} is not 0, 1, 2, or 3.\".format(action))\n",
    "\n",
    "    new_y, new_x = new_state\n",
    "    if self._layout[new_y, new_x] == -1:  # wall\n",
    "      reward = self._penalty_for_walls\n",
    "      discount = self._discount\n",
    "      new_state = (y, x)\n",
    "    elif self._layout[new_y, new_x] == 0:  # empty cell\n",
    "      reward = 0.\n",
    "      discount = self._discount\n",
    "    else:  # a goal\n",
    "      reward = self._layout[new_y, new_x]\n",
    "      discount = 0.\n",
    "      new_state = self._start_state\n",
    "    \n",
    "    self._state = new_state\n",
    "    return reward, discount, self.get_obs()"
   ]
  },
  {
   "cell_type": "code",
   "execution_count": 3,
   "metadata": {
    "cellView": "both",
    "colab": {},
    "colab_type": "code",
    "id": "UXyPvOq-S2OT"
   },
   "outputs": [],
   "source": [
    "#@title Alternative Environment: Gridworld (with different goal state)\n",
    "class AltGrid(Grid):\n",
    "  \n",
    "    def __init__(self, discount=0.9, penalty_for_walls=-5):\n",
    "      # -1: wall\n",
    "      # 0: empty, episode continues\n",
    "      # other: number indicates reward, episode will terminate\n",
    "      self._layout = np.array([\n",
    "        [-1, -1, -1, -1, -1, -1, -1, -1, -1, -1],\n",
    "        [-1,  0,  0,  0,  0,  0,  0,  0,  0, -1],\n",
    "        [-1,  0,  0,  0, -1, -1,  0,  0,  0, -1],\n",
    "        [-1,  0,  0,  0, -1, -1,  0,  0,  0, -1],\n",
    "        [-1,  0,  0,  0, -1, -1,  0,  0,  0, -1],\n",
    "        [-1,  0,  0,  0,  0,  0,  0,  0,  0, -1],\n",
    "        [-1,  0,  0,  0,  0,  0,  0,  0,  0, -1],\n",
    "        [-1,  0, 10,  0,  0,  0,  0,  0,  0, -1],\n",
    "        [-1, -1, -1, -1, -1, -1, -1, -1, -1, -1]\n",
    "      ])\n",
    "      self._start_state = (2, 2)\n",
    "      self._goal_state = (2, 7)\n",
    "      self._state = self._start_state\n",
    "      self._number_of_states = np.prod(np.shape(self._layout))\n",
    "      self._discount = discount\n",
    "      self._penalty_for_walls = penalty_for_walls\n",
    "      self._layout_dims = self._layout.shape"
   ]
  },
  {
   "cell_type": "code",
   "execution_count": 4,
   "metadata": {
    "colab": {},
    "colab_type": "code",
    "id": "ZVUhh2qqwep_"
   },
   "outputs": [
    {
     "data": {
      "image/png": "[encoded data removed]",
      "text/plain": [
       "<Figure size 216x216 with 1 Axes>"
      ]
     },
     "metadata": {},
     "output_type": "display_data"
    },
    {
     "data": {
      "image/png": "[encoded data removed]",
      "text/plain": [
       "<Figure size 216x216 with 1 Axes>"
      ]
     },
     "metadata": {},
     "output_type": "display_data"
    }
   ],
   "source": [
    "# Visualise the two environments\n",
    "\n",
    "# Instantiate the two tabular environments\n",
    "grid = Grid()\n",
    "alt_grid = AltGrid()\n",
    "\n",
    "# Plot tabular environments\n",
    "grid.plot_grid()\n",
    "alt_grid.plot_grid()"
   ]
  },
  {
   "cell_type": "code",
   "execution_count": 5,
   "metadata": {
    "cellView": "both",
    "colab": {},
    "colab_type": "code",
    "id": "rbEydMqDKxZr"
   },
   "outputs": [],
   "source": [
    "#@title Policies (Uniformly random and e-greedy) \n",
    "#Expected syntax: `policy(q_values)` \n",
    "\n",
    "# uniformly random policy\n",
    "def random_policy(q):\n",
    "  return np.random.randint(4)\n"
   ]
  },
  {
   "cell_type": "markdown",
   "metadata": {
    "colab_type": "text",
    "id": "cOu9RZY3AkF1"
   },
   "source": [
    "## Helper functions (for visualization and running experiments)"
   ]
  },
  {
   "cell_type": "code",
   "execution_count": 6,
   "metadata": {
    "cellView": "both",
    "colab": {},
    "colab_type": "code",
    "id": "6EttQGJ1n5Zn"
   },
   "outputs": [],
   "source": [
    "#@title Helper functions for visualisation\n",
    "\n",
    "map_from_action_to_subplot = lambda a: (2, 6, 8, 4)[a]\n",
    "map_from_action_to_name = lambda a: (\"up\", \"right\", \"down\", \"left\")[a]\n",
    "\n",
    "def plot_values(values, colormap='pink', vmin=-1, vmax=10):\n",
    "  plt.imshow(values, interpolation=\"nearest\", cmap=colormap, vmin=vmin, vmax=vmax)\n",
    "  plt.yticks([])\n",
    "  plt.xticks([])\n",
    "  plt.colorbar(ticks=[vmin, vmax])\n",
    "\n",
    "def plot_state_value(action_values):\n",
    "  q = action_values\n",
    "  fig = plt.figure(figsize=(4, 4))\n",
    "  vmin = np.min(action_values)\n",
    "  vmax = np.max(action_values)\n",
    "  v = 0.9 * np.max(q, axis=-1) + 0.1 * np.mean(q, axis=-1)\n",
    "  plot_values(v, colormap='summer', vmin=vmin, vmax=vmax)\n",
    "  plt.title(\"$v(s)$\")\n",
    "\n",
    "def plot_action_values(action_values):\n",
    "  q = action_values\n",
    "  fig = plt.figure(figsize=(8, 8))\n",
    "  fig.subplots_adjust(wspace=0.3, hspace=0.3)\n",
    "  vmin = np.min(action_values)\n",
    "  vmax = np.max(action_values)\n",
    "  dif = vmax - vmin\n",
    "  for a in [0, 1, 2, 3]:\n",
    "    plt.subplot(3, 3, map_from_action_to_subplot(a))\n",
    "    \n",
    "    plot_values(q[..., a], vmin=vmin - 0.05*dif, vmax=vmax + 0.05*dif)\n",
    "    action_name = map_from_action_to_name(a)\n",
    "    plt.title(r\"$q(s, \\mathrm{\" + action_name + r\"})$\")\n",
    "    \n",
    "  plt.subplot(3, 3, 5)\n",
    "  v = 0.9 * np.max(q, axis=-1) + 0.1 * np.mean(q, axis=-1)\n",
    "  plot_values(v, colormap='summer', vmin=vmin, vmax=vmax)\n",
    "  plt.title(\"$v(s)$\")\n",
    "      \n",
    "  \n",
    "def smooth(x, window=10):\n",
    "  return x[:window*(len(x)//window)].reshape(len(x)//window, window).mean(axis=1)\n",
    "  \n",
    "\n",
    "def plot_stats(stats, window=10):\n",
    "  plt.figure(figsize=(16,4))\n",
    "  plt.subplot(121)\n",
    "  xline = range(0, len(stats.episode_lengths), window)\n",
    "  plt.plot(xline, smooth(stats.episode_lengths, window=window))\n",
    "  plt.ylabel('Episode Length')\n",
    "  plt.xlabel('Episode Count')\n",
    "  plt.subplot(122)\n",
    "  plt.plot(xline, smooth(stats.episode_rewards, window=window))\n",
    "  plt.ylabel('Episode Return')\n",
    "  plt.xlabel('Episode Count')"
   ]
  },
  {
   "cell_type": "code",
   "execution_count": 7,
   "metadata": {
    "colab": {},
    "colab_type": "code",
    "id": "U86SLdA25GAY"
   },
   "outputs": [],
   "source": [
    "#@title [IMPORTANT] Running the experiments\n",
    "\n",
    "# Simple interaction loop with the MDP:\n",
    "# 1) Interact with the environment\n",
    "# 2) Agent gets observation, rewards, and discount from env. \n",
    "# and is expected to produce the next action\n",
    "def run_experiment(env, agent, number_of_steps):\n",
    "    mean_reward = 0.\n",
    "    try:\n",
    "      action = agent.initial_action()\n",
    "    except AttributeError:\n",
    "      action = 0\n",
    "      \n",
    "    # Interaction wih the MDP\n",
    "    for i in range(number_of_steps):\n",
    "      reward, discount, next_state = env.step(action)\n",
    "      action = agent.step(reward, discount, next_state)\n",
    "      mean_reward += (reward - mean_reward)/(i + 1.)\n",
    "\n",
    "    return mean_reward"
   ]
  },
  {
   "cell_type": "code",
   "execution_count": 8,
   "metadata": {
    "cellView": "both",
    "colab": {},
    "colab_type": "code",
    "id": "aWmvMHR5gM6N"
   },
   "outputs": [],
   "source": [
    "#@title Helper functions for visualizing policies\n",
    "def plot_policy(grid, policy):\n",
    "  action_names = [r\"$\\uparrow$\",r\"$\\rightarrow$\", r\"$\\downarrow$\", r\"$\\leftarrow$\"]\n",
    "  grid.plot_grid()\n",
    "  plt.hold('on')\n",
    "  plt.title('Policy Visualization')\n",
    "  for i in range(9):\n",
    "    for j in range(10):\n",
    "      action_name = action_names[policy[i,j]]\n",
    "      plt.text(j, i, action_name, ha='center', va='center')\n",
    "\n",
    "def plot_greedy_policy(grid, q):\n",
    "  action_names = [r\"$\\uparrow$\",r\"$\\rightarrow$\", r\"$\\downarrow$\", r\"$\\leftarrow$\"]\n",
    "  greedy_actions = np.argmax(q, axis=2)\n",
    "  grid.plot_grid()\n",
    "  plt.hold('on')\n",
    "  plt.title('Greedy Policy')\n",
    "  for i in range(9):\n",
    "    for j in range(10):\n",
    "      action_name = action_names[greedy_actions[i,j]]\n",
    "      plt.text(j, i, action_name, ha='center', va='center')"
   ]
  },
  {
   "cell_type": "markdown",
   "metadata": {
    "colab_type": "text",
    "id": "fzpb_dGVjT0O"
   },
   "source": [
    "# RL Lab 1: Tabular Agents\n",
    "\n",
    "Each agent, should implement a step function:\n",
    "\n",
    "### `__init__(self, number_of_actions, number_of_states, initial_observation)`:\n",
    "The constructor will provide the agent the number of actions, number of states, and the initial observation. You can get the initial observation by first instatiating an environment, using `grid = Grid()`, and then calling `grid.get_obs()`.\n",
    "\n",
    "Note: All agents should be in pure Python, not TensorFlow needed for this part.\n",
    "\n",
    "### `step(self, reward, discount, next_observation, ...)`:\n",
    "where `...` indicates there could be other inputs (discussed below).  The step should update the internal values, and return a new action to take.\n",
    "\n",
    "When the discount is zero ($\\text{discount} = \\gamma = 0$), then the `next_observation` will be the initial observation of the next episode.  One shouldn't bootstrap on the value of this state, which can simply be guaranteed when using \"$\\gamma \\cdot v(\\text{next_observation})$\" (for whatever definition of $v$ is appropriate) in the update, because $\\gamma = 0$.  So, the end of an episode can be seamlessly handled with the same step function.\n",
    "\n",
    "### `q_values()`:\n",
    "\n",
    "Tabular agents implement a function `q_values()` returning a matrix of Q values of shape: (`number_of_states`, `number_of_actions`)\n",
    "\n",
    "\n",
    "### A note on the initial action\n",
    "Normally, you would also have to implement a method that gives the initial action, based on the initial state.  As in the previous assignment you can use the action `0` (which corresponds to `up`) as initial action, so that otherwise we do not have to worry about this.  Note that this initial action is only executed once, and the beginning of the first episode---not at the beginning of each episode.\n",
    "\n",
    "Q-learning and it's variants needs to remember the last action in order to update its value when they see the next state.  In the `__init__`, make sure you set the initial action to zero, e.g.,\n",
    "```\n",
    "def __init__(...):\n",
    "  (...)\n",
    "  self._action = 0\n",
    "  (...)\n",
    "```\n"
   ]
  },
  {
   "cell_type": "markdown",
   "metadata": {
    "colab_type": "text",
    "id": "B8oKd0oyvNcH"
   },
   "source": [
    "\n",
    "## 1.0: Overview\n",
    "\n",
    "We are going to implement:\n",
    "- Prediction problem: Policy Evaluation\n",
    "- Towards control: Greedy Improvement \n",
    "- Online Tabular SARSA Agent\n",
    "- Online Tabular Q-learning Agent\n",
    "- Tabular Experience Replay Q-learning Agent\n",
    "\n",
    "\n",
    "\n",
    "\n",
    "\n"
   ]
  },
  {
   "cell_type": "markdown",
   "metadata": {
    "colab_type": "text",
    "id": "5XEP4mf4Jx70"
   },
   "source": [
    "\n",
    "## 1.1: Policy evaluation and Greedy Improvement\n",
    "\n",
    "The purpose here is to evaluate a given policy $\\pi$ -- compute the value function assoicated with following/employing this policy in a given MDP.\n",
    "\n",
    "$$ Q^{\\pi}(S,A) = \\mathbb{E}_{\\tau \\sim P^{\\pi}} [\\sum_t \\gamma^t R_t| s_0=s,a=a_0]$$\n",
    "\n",
    "where $\\tau = \\{s_0, a_0, r_0, s_1, a_1, r_1, \\cdots \\}$\n",
    "\n",
    "\n",
    "Algorithm:\n",
    "\n",
    "**Initialize** $Q(s, a)$ for all s ∈ $\\mathcal{S}$ and a ∈ $\\mathcal{A}(s)$\n",
    "\n",
    "**Loop forever**:\n",
    "\n",
    "1. $S \\gets{}$current (nonterminal) state\n",
    " \n",
    "2. $A \\gets{} \\text{behaviour_policy}(S)$\n",
    " \n",
    "3. Take action $A$; observe resulting reward $R$, discount $\\gamma$, and state, $S'$\n",
    "\n",
    "4. $Q(S, A) \\gets Q(S, A) + \\alpha (R + \\gamma Q(S', \\pi(S')) − Q(S, A))$"
   ]
  },
  {
   "cell_type": "code",
   "execution_count": 9,
   "metadata": {
    "colab": {},
    "colab_type": "code",
    "id": "nORJvcHML9os"
   },
   "outputs": [],
   "source": [
    "# uniformly random policy\n",
    "def random_policy(q):\n",
    "  return np.random.randint(4)"
   ]
  },
  {
   "cell_type": "markdown",
   "metadata": {
    "colab_type": "text",
    "id": "-KawyBV2_Sxz"
   },
   "source": [
    "### Task 1.1.1 [Coding, 10 points]\n",
    "\n",
    "Complete the code for Policy Evaluation Agent\n",
    "\n",
    "\n"
   ]
  },
  {
   "cell_type": "code",
   "execution_count": 10,
   "metadata": {
    "colab": {},
    "colab_type": "code",
    "id": "_IWIHIvxyC-H"
   },
   "outputs": [],
   "source": [
    "#@title [Coding Task] Policy Evaluation AGENT\n",
    "class PolicyEval_AGENT(object):\n",
    "\n",
    "  def __init__(\n",
    "      self, number_of_states, number_of_actions, initial_state, evaluated_policy, \n",
    "      behaviour_policy=random_policy, step_size=0.1):\n",
    "    self._action = 0\n",
    "    self._state = initial_state\n",
    "    self._number_of_states = number_of_states\n",
    "    self._number_of_actions = number_of_actions\n",
    "    self._step_size = step_size\n",
    "    self._behaviour_policy = behaviour_policy\n",
    "    self._evaluated_policy = evaluated_policy\n",
    "    \n",
    "    # ============ YOUR CODE HERE =============\n",
    "    # initialize your q-values (this is a table of state and action pairs\n",
    "    # Note: this can be random, but the code was tested w/ zero-initialization \n",
    "    # self._q =\n",
    "    self._q = np.zeros((number_of_states, number_of_actions))\n",
    "    \n",
    "  @property\n",
    "  def q_values(self):    \n",
    "    return self._q\n",
    "\n",
    "  def step(self, reward, discount, next_state):\n",
    "    s = self._state\n",
    "    a = self._action\n",
    "    r = reward\n",
    "    g = discount\n",
    "    next_s = next_state\n",
    "    # ============ YOUR CODE HERE =============\n",
    "    # Q-value table update\n",
    "    self._q[s, a] += self._step_size*(r + g*self._q[next_s, self._behaviour_policy(self._q[next_s])] - self._q[s, a])\n",
    "    self._state = next_state\n",
    "    # Get the action to send to execute in the environment and return it\n",
    "    self._action = self._behaviour_policy(self._q[next_s])\n",
    "    #print(f'STATE: {s} ACTION: {a} REWARD: {r} POS: {self._q[s]}  NEXT_ACTION:{self._action}')\n",
    "    \n",
    "    return self._action\n",
    "    "
   ]
  },
  {
   "cell_type": "markdown",
   "metadata": {
    "colab_type": "text",
    "id": "TCPr9KzBtFJ3"
   },
   "source": [
    "**Try it!** Run the policy evaluation agent, evaluating the uniformly randon policy  on the AltGrid() environment for $\\texttt{num_steps} = 1e3, 1e5$. \n",
    "\n",
    "Visualise the resulting value functions $Q(s,a)$. Plotting function is provided for you and it takes in a table of q-values"
   ]
  },
  {
   "cell_type": "code",
   "execution_count": 11,
   "metadata": {
    "cellView": "both",
    "colab": {},
    "colab_type": "code",
    "id": "mCWq1yKWp76Y",
    "scrolled": false
   },
   "outputs": [
    {
     "name": "stdout",
     "output_type": "stream",
     "text": [
      "AFTER 100000 STEPS ...\n"
     ]
    },
    {
     "data": {
      "image/png": "[encoded data removed]",
      "text/plain": [
       "<Figure size 576x576 with 10 Axes>"
      ]
     },
     "metadata": {
      "needs_background": "light"
     },
     "output_type": "display_data"
    }
   ],
   "source": [
    "num_steps = int(1e5) # @param\n",
    "\n",
    "# environment\n",
    "grid = AltGrid()\n",
    "\n",
    "# agent \n",
    "agent = PolicyEval_AGENT(\n",
    "    number_of_states=grid._layout.size, \n",
    "    number_of_actions=4, \n",
    "    initial_state=grid.get_obs(),\n",
    "    evaluated_policy=random_policy,\n",
    "    behaviour_policy=random_policy,\n",
    "    step_size=0.1)\n",
    "\n",
    "# run experiment and get the value functions from agent\n",
    "run_experiment(grid, agent, num_steps)\n",
    "\n",
    "# get the q-values\n",
    "q = agent.q_values.reshape(grid._layout.shape + (4,))\n",
    "\n",
    "# visualize value functions\n",
    "print('AFTER {} STEPS ...'.format(num_steps))\n",
    "plot_action_values(q)"
   ]
  },
  {
   "cell_type": "code",
   "execution_count": 12,
   "metadata": {},
   "outputs": [
    {
     "name": "stdout",
     "output_type": "stream",
     "text": [
      "AFTER 1000 STEPS ...\n"
     ]
    },
    {
     "data": {
      "image/png": "[encoded data removed]",
      "text/plain": [
       "<Figure size 576x576 with 10 Axes>"
      ]
     },
     "metadata": {
      "needs_background": "light"
     },
     "output_type": "display_data"
    }
   ],
   "source": [
    "num_steps = int(1e3) # @param\n",
    "\n",
    "# environment\n",
    "grid = AltGrid()\n",
    "\n",
    "# agent \n",
    "agent = PolicyEval_AGENT(\n",
    "    number_of_states=grid._layout.size, \n",
    "    number_of_actions=4, \n",
    "    initial_state=grid.get_obs(),\n",
    "    evaluated_policy=random_policy,\n",
    "    behaviour_policy=random_policy,\n",
    "    step_size=0.1)\n",
    "\n",
    "# run experiment and get the value functions from agent\n",
    "run_experiment(grid, agent, num_steps)\n",
    "\n",
    "# get the q-values\n",
    "q = agent.q_values.reshape(grid._layout.shape + (4,))\n",
    "\n",
    "# visualize value functions\n",
    "print('AFTER {} STEPS ...'.format(num_steps))\n",
    "plot_action_values(q)"
   ]
  },
  {
   "cell_type": "markdown",
   "metadata": {
    "colab_type": "text",
    "id": "WN-KBoc2w9Na"
   },
   "source": [
    "### Task 1.1.2 [Coding, 4 points]\n",
    "\n",
    "Compute and Visualise the greedy policy based on the above evaluation, at the end of the training process for $\\texttt{num_steps} = 1e5$.\n",
    "\n",
    "\n",
    "$$ \\pi_{greedy} (a|s) = \\arg\\max_a q^{\\mu}(s,a)$$\n",
    "\n",
    "To do this, complete the code for epsilon_greedy policy below. Remember to break ties randomly.\n"
   ]
  },
  {
   "cell_type": "code",
   "execution_count": 38,
   "metadata": {
    "colab": {},
    "colab_type": "code",
    "id": "_RbYQ2xmMBiI"
   },
   "outputs": [],
   "source": [
    "# @title [Coding Task] epilson-greedy policy\n",
    "# Input(s): Q(s,:), epsilon\n",
    "# Output:   Sampled action based on epsilon-Greedy(Q(s,:))\n",
    "def epsilon_greedy(q_values, epsilon=0.1):\n",
    "    if np.random.uniform(0,1) < epsilon:\n",
    "        #action = np.random.choice(q_values)\n",
    "        action = random_policy(q)\n",
    "    else:\n",
    "        action = np.argmax(q_values)\n",
    "    return action\n",
    "  # return the epsilon greedy action  "
   ]
  },
  {
   "cell_type": "code",
   "execution_count": 14,
   "metadata": {
    "colab": {},
    "colab_type": "code",
    "id": "q5XBEXuqufcy"
   },
   "outputs": [
    {
     "name": "stderr",
     "output_type": "stream",
     "text": [
      "c:\\users\\nicol\\appdata\\local\\programs\\python\\python37\\lib\\site-packages\\ipykernel_launcher.py:5: MatplotlibDeprecationWarning: pyplot.hold is deprecated.\n",
      "    Future behavior will be consistent with the long-time default:\n",
      "    plot commands add elements without first clearing the\n",
      "    Axes and/or Figure.\n",
      "  \"\"\"\n",
      "c:\\users\\nicol\\appdata\\local\\programs\\python\\python37\\lib\\site-packages\\matplotlib\\__init__.py:910: MatplotlibDeprecationWarning: axes.hold is deprecated. Please remove it from your matplotlibrc and/or style files.\n",
      "  mplDeprecation)\n",
      "c:\\users\\nicol\\appdata\\local\\programs\\python\\python37\\lib\\site-packages\\matplotlib\\rcsetup.py:156: MatplotlibDeprecationWarning: axes.hold is deprecated, will be removed in 3.0\n",
      "  mplDeprecation)\n"
     ]
    },
    {
     "data": {
      "image/png": "[encoded data removed]",
      "text/plain": [
       "<Figure size 216x216 with 1 Axes>"
      ]
     },
     "metadata": {},
     "output_type": "display_data"
    }
   ],
   "source": [
    "# visualize the greedy policy (whatever works for you, \n",
    "# but you should be able to see what the agent would do\n",
    "# at each step/state)  \n",
    "\n",
    "pi = np.zeros(grid._layout_dims, dtype=np.int32)\n",
    "for i in range(grid._layout_dims[0]):\n",
    "  for j in range(grid._layout_dims[1]):\n",
    "    pi[i, j] = epsilon_greedy(q[i, j], epsilon=0.)\n",
    "    \n",
    "plot_policy(grid, pi)"
   ]
  },
  {
   "cell_type": "markdown",
   "metadata": {
    "colab_type": "text",
    "id": "I71bC1vGAArO"
   },
   "source": [
    "###  Task 1.1.3 [Question, 4 points]\n",
    "\n",
    "**Q: ** What do you observe? (Remember that we are evaluating the uniformly random policy)\n",
    "\n",
    "*Answer here*"
   ]
  },
  {
   "cell_type": "markdown",
   "metadata": {
    "colab_type": "text",
    "id": "_hLuA4e_zaiW"
   },
   "source": [
    "### Task 1.1.4 [Question, 4 points]\n",
    "\n",
    "Re-run the same experiment: policy evaluation agent on the Grid() environment for $\\texttt{num_steps} = 1e5$\n",
    "and visualise the resulting value functions and the greedy policy on top of these values at the end of training.\n",
    "\n",
    "**Q: ** What do you observe? \n",
    "- a) How does this policy compare with the optimal one?\n",
    "- b) Try running the training process longer -- what do you observe?\n",
    "\n",
    "*Answer here*"
   ]
  },
  {
   "cell_type": "code",
   "execution_count": 15,
   "metadata": {
    "colab": {},
    "colab_type": "code",
    "id": "GZS4CfLtzaiX"
   },
   "outputs": [
    {
     "data": {
      "image/png": "[encoded data removed]",
      "text/plain": [
       "<Figure size 576x576 with 10 Axes>"
      ]
     },
     "metadata": {
      "needs_background": "light"
     },
     "output_type": "display_data"
    }
   ],
   "source": [
    "num_steps = int(1e5) # @param\n",
    "\n",
    "grid = Grid()\n",
    "\n",
    "agent = PolicyEval_AGENT(\n",
    "    number_of_states=grid._layout.size, \n",
    "    number_of_actions=4, \n",
    "    initial_state=grid.get_obs(),\n",
    "    evaluated_policy=random_policy,\n",
    "    behaviour_policy=random_policy,\n",
    "    step_size=0.1)\n",
    "\n",
    "# run experiment and get the value functions from agent\n",
    "run_experiment(grid, agent, num_steps)\n",
    "q = agent.q_values.reshape(grid._layout.shape + (4,))\n",
    "\n",
    "# visualise value functions\n",
    "plot_action_values(q)"
   ]
  },
  {
   "cell_type": "code",
   "execution_count": 16,
   "metadata": {
    "colab": {},
    "colab_type": "code",
    "id": "i1cC9EZJzaia"
   },
   "outputs": [
    {
     "name": "stderr",
     "output_type": "stream",
     "text": [
      "c:\\users\\nicol\\appdata\\local\\programs\\python\\python37\\lib\\site-packages\\ipykernel_launcher.py:16: MatplotlibDeprecationWarning: pyplot.hold is deprecated.\n",
      "    Future behavior will be consistent with the long-time default:\n",
      "    plot commands add elements without first clearing the\n",
      "    Axes and/or Figure.\n",
      "  app.launch_new_instance()\n",
      "c:\\users\\nicol\\appdata\\local\\programs\\python\\python37\\lib\\site-packages\\matplotlib\\__init__.py:910: MatplotlibDeprecationWarning: axes.hold is deprecated. Please remove it from your matplotlibrc and/or style files.\n",
      "  mplDeprecation)\n",
      "c:\\users\\nicol\\appdata\\local\\programs\\python\\python37\\lib\\site-packages\\matplotlib\\rcsetup.py:156: MatplotlibDeprecationWarning: axes.hold is deprecated, will be removed in 3.0\n",
      "  mplDeprecation)\n"
     ]
    },
    {
     "data": {
      "image/png": "[encoded data removed]",
      "text/plain": [
       "<Figure size 216x216 with 1 Axes>"
      ]
     },
     "metadata": {},
     "output_type": "display_data"
    }
   ],
   "source": [
    "# visualise the greedy policy\n",
    "plot_greedy_policy(grid, q)"
   ]
  },
  {
   "cell_type": "markdown",
   "metadata": {
    "colab_type": "text",
    "id": "dbODeOkjyUEm"
   },
   "source": [
    "## 1.2 On-policy control: SARSA Agent\n",
    "In the following we are going to be concerned with the control problem -- inferring the optimal value/policy that will 'solve' the MDP. The first algorithm we are going to be looking at is SARSA. \n",
    "\n",
    "Note: This is an **on-policy algoritm** -- i.e: the data collection is done on-policy.\n",
    "\n",
    "\n",
    "**Initialize** $Q(s, a)$ for all s ∈ S and a ∈ A(s)\n",
    "\n",
    "**Loop forever**:\n",
    "\n",
    "1. $S \\gets{}$current (nonterminal) state\n",
    " \n",
    "2. $A \\gets{} \\text{current_policy}(S)$\n",
    " \n",
    "3. Take action $A$; observe resultant reward $R$, discount $\\gamma$, and state, $S'$\n",
    "\n",
    "4. $Q(S, A) \\gets Q(S, A) + \\alpha (R + \\gamma Q(S', A') − Q(S, A))$"
   ]
  },
  {
   "cell_type": "markdown",
   "metadata": {
    "colab_type": "text",
    "id": "jtOD2BqAB9el"
   },
   "source": [
    "### Task 1.2.1 [Coding, 14 points]\n",
    "\n",
    "Complete the code for the SARSA Agent\n",
    "\n",
    "\n"
   ]
  },
  {
   "cell_type": "code",
   "execution_count": 44,
   "metadata": {
    "colab": {},
    "colab_type": "code",
    "id": "2g1cXTvXjJ7d"
   },
   "outputs": [],
   "source": [
    "#@title [Coding Task] SARSA Agent\n",
    "class SARSA_AGENT(object):\n",
    "\n",
    "  def __init__(\n",
    "      self, number_of_states, number_of_actions, initial_state, \n",
    "      behaviour_policy, num_offline_updates=0, step_size=0.1):\n",
    "    self._q = np.zeros((number_of_states, number_of_actions))\n",
    "    self._state = initial_state\n",
    "    self._number_of_states = number_of_states\n",
    "    self._number_of_actions = number_of_actions\n",
    "    self._step_size = step_size\n",
    "    self._behaviour_policy = behaviour_policy\n",
    "    self._action = 0\n",
    "    \n",
    "  @property\n",
    "  def q_values(self):\n",
    "    return self._q\n",
    "\n",
    "  def step(self, reward, discount, next_state):\n",
    "    s = self._state\n",
    "    a = self._action\n",
    "    r = reward\n",
    "    g = discount\n",
    "    next_s = next_state\n",
    "    \n",
    "    # ============ YOUR CODE HERE =============\n",
    "    # Q-value table update\n",
    "    # td_error =\n",
    "    # self._q[s, a] =\n",
    "    #print(next_s, s, a)\n",
    "    a = int(a)\n",
    "    td_error = r + g * np.max(self._q[next_s]) - self._q[s, a]\n",
    "    self._q[s, a] += self._step_size * td_error\n",
    "    \n",
    "    # Get the action to send to execute in the environment and return it\n",
    "    self._state = next_state\n",
    "    self._action = self._behaviour_policy(self._q[next_state])\n",
    "    \n",
    "    return self._action"
   ]
  },
  {
   "cell_type": "markdown",
   "metadata": {
    "colab_type": "text",
    "id": "KDjmJOD161Hx"
   },
   "source": [
    "###Task 1.2.2 [Question, 6 points]\n",
    "\n",
    "**Consider** the SARSA agent with different levels of exploration. \n",
    "\n",
    "- Moderate exploration: $\\texttt{epsilon} = 0.1$. \n",
    "\n",
    "- Very exploratory strategy: $\\texttt{epsilon} = 0.5, 1.0$.\n",
    "\n",
    "**Q**: Which do you expect, without running the experiment, to do better?  \n",
    "\n",
    "*Answer here*\n",
    "\n"
   ]
  },
  {
   "cell_type": "markdown",
   "metadata": {
    "colab_type": "text",
    "id": "oUXSSutaDB8v"
   },
   "source": [
    "###Task 1.2.3 [Question, 4 points]\n",
    "\n",
    "**Q** Run multiple times. What do you observe? ($\\texttt{epsilon} = 0.1$)\n",
    " \n",
    " *Answer here* **bold text**"
   ]
  },
  {
   "cell_type": "code",
   "execution_count": 45,
   "metadata": {
    "colab": {},
    "colab_type": "code",
    "id": "qRHL8d6Q5ua5"
   },
   "outputs": [
    {
     "name": "stdout",
     "output_type": "stream",
     "text": [
      "AFTER 100000 STEPS ...\n"
     ]
    },
    {
     "name": "stderr",
     "output_type": "stream",
     "text": [
      "c:\\users\\nicol\\appdata\\local\\programs\\python\\python37\\lib\\site-packages\\ipykernel_launcher.py:16: MatplotlibDeprecationWarning: pyplot.hold is deprecated.\n",
      "    Future behavior will be consistent with the long-time default:\n",
      "    plot commands add elements without first clearing the\n",
      "    Axes and/or Figure.\n",
      "  app.launch_new_instance()\n",
      "c:\\users\\nicol\\appdata\\local\\programs\\python\\python37\\lib\\site-packages\\matplotlib\\__init__.py:910: MatplotlibDeprecationWarning: axes.hold is deprecated. Please remove it from your matplotlibrc and/or style files.\n",
      "  mplDeprecation)\n",
      "c:\\users\\nicol\\appdata\\local\\programs\\python\\python37\\lib\\site-packages\\matplotlib\\rcsetup.py:156: MatplotlibDeprecationWarning: axes.hold is deprecated, will be removed in 3.0\n",
      "  mplDeprecation)\n"
     ]
    },
    {
     "data": {
      "image/png": "[encoded data removed]",
      "text/plain": [
       "<Figure size 576x576 with 10 Axes>"
      ]
     },
     "metadata": {
      "needs_background": "light"
     },
     "output_type": "display_data"
    },
    {
     "data": {
      "image/png": "[encoded data removed]",
      "text/plain": [
       "<Figure size 216x216 with 1 Axes>"
      ]
     },
     "metadata": {},
     "output_type": "display_data"
    }
   ],
   "source": [
    "epsilon = 0.1 #@param\n",
    "num_steps = int(1e5) #@param\n",
    "\n",
    "grid = Grid(discount=0.9, penalty_for_walls=-1.)\n",
    "\n",
    "behavior_policy = lambda qval: epsilon_greedy(qval, epsilon=epsilon)\n",
    "agent = SARSA_AGENT(\n",
    "    number_of_states=grid._layout.size, \n",
    "    number_of_actions=4, \n",
    "    initial_state=grid.get_obs(),\n",
    "    behaviour_policy=behavior_policy,\n",
    "    step_size=0.1)\n",
    "\n",
    "\n",
    "\n",
    "\n",
    "# run experiment and get the value functions from agent\n",
    "run_experiment(grid, agent, num_steps)\n",
    "q = agent.q_values.reshape(grid._layout.shape + (4,))\n",
    "\n",
    "# visualize value functions\n",
    "print('AFTER {} STEPS ...'.format(num_steps))\n",
    "plot_action_values(q)\n",
    "\n",
    "# visualise the greedy policy\n",
    "plot_greedy_policy(grid, q)"
   ]
  },
  {
   "cell_type": "markdown",
   "metadata": {
    "colab_type": "text",
    "id": "WxjNg2_O-Dct"
   },
   "source": [
    "## 1.3 Off-policy control: Q-learning Agent\n",
    "\n",
    "Reminder: Q-learning is a very powerful and general algorithm, that enable control (figuring out the optimal policy/value function) both on and off-policy.\n",
    "\n",
    "**Initialize** $Q(s, a)$ for all s ∈ S and a ∈ A(s)\n",
    "\n",
    "**Loop forever**:\n",
    "\n",
    "1. $S \\gets{}$current (nonterminal) state\n",
    " \n",
    "2. $A \\gets{} \\text{behaviour_policy}(S)$\n",
    " \n",
    "3. Take action $A$; observe resultant reward $R$, discount $\\gamma$, and state, $S'$\n",
    "\n",
    "4. $Q(S, A) \\gets Q(S, A) + \\alpha (R + \\gamma \\max_a Q(S', a) − Q(S, A))$\n",
    "\n",
    "\n",
    "\n",
    "### Task 1.3.1 [Coding, 14 points]\n",
    "\n",
    "Complete the code for the Q-learning Agent"
   ]
  },
  {
   "cell_type": "code",
   "execution_count": 55,
   "metadata": {
    "colab": {},
    "colab_type": "code",
    "id": "D9MR0wQ-jS_C"
   },
   "outputs": [],
   "source": [
    "#@title [Coding Task] Q-learning AGENT\n",
    "class QLearning_AGENT(object):\n",
    "\n",
    "  def __init__(\n",
    "      self, number_of_states, number_of_actions, initial_state, \n",
    "      behaviour_policy, num_offline_updates=0, step_size=0.1):\n",
    "    self._q = np.zeros((number_of_states, number_of_actions))\n",
    "    self._state = initial_state\n",
    "    self._action = 0\n",
    "    self._number_of_states = number_of_states\n",
    "    self._number_of_actions = number_of_actions\n",
    "    self._step_size = step_size\n",
    "    self._behaviour_policy = behaviour_policy\n",
    "    pass\n",
    "    \n",
    "  @property\n",
    "  def q_values(self):\n",
    "    return self._q\n",
    "\n",
    "  def step(self, reward, discount, next_state):\n",
    "    s = self._state\n",
    "    a = self._action\n",
    "    r = reward\n",
    "    g = discount\n",
    "    next_s = next_state\n",
    "    \n",
    "    # ============ YOUR CODE HERE =============\n",
    "    # Q-value table update\n",
    "    self._q[s, a] += self._step_size*(r + g*self._behaviour_policy(self._q[next_s]) - self._q[s, a])\n",
    "    #print(self._q[next_state])\n",
    "    # Get the action to send to execute in the environment and return it\n",
    "    self._state = next_state\n",
    "    self._action = self._behaviour_policy(self._q[next_state])\n",
    "    \n",
    "    return self._action"
   ]
  },
  {
   "cell_type": "markdown",
   "metadata": {
    "colab_type": "text",
    "id": "8cqpXmZta4l-"
   },
   "source": [
    "**Try it!** **Run** your Q-learning agent on the below environment for 1e5 number of steps\n",
    "Keep the rest, to the default values, for this first step. We'll get to experiment with this later."
   ]
  },
  {
   "cell_type": "code",
   "execution_count": 56,
   "metadata": {
    "colab": {},
    "colab_type": "code",
    "id": "kgtCWNNcZJwW"
   },
   "outputs": [],
   "source": [
    "# enviroment\n",
    "grid = Grid(discount=0.9, penalty_for_walls=-1.)"
   ]
  },
  {
   "cell_type": "code",
   "execution_count": 57,
   "metadata": {
    "colab": {},
    "colab_type": "code",
    "id": "hduGg4l19acj"
   },
   "outputs": [
    {
     "name": "stdout",
     "output_type": "stream",
     "text": [
      "AFTER 100000 STEPS ...\n"
     ]
    },
    {
     "name": "stderr",
     "output_type": "stream",
     "text": [
      "c:\\users\\nicol\\appdata\\local\\programs\\python\\python37\\lib\\site-packages\\ipykernel_launcher.py:16: MatplotlibDeprecationWarning: pyplot.hold is deprecated.\n",
      "    Future behavior will be consistent with the long-time default:\n",
      "    plot commands add elements without first clearing the\n",
      "    Axes and/or Figure.\n",
      "  app.launch_new_instance()\n",
      "c:\\users\\nicol\\appdata\\local\\programs\\python\\python37\\lib\\site-packages\\matplotlib\\__init__.py:910: MatplotlibDeprecationWarning: axes.hold is deprecated. Please remove it from your matplotlibrc and/or style files.\n",
      "  mplDeprecation)\n",
      "c:\\users\\nicol\\appdata\\local\\programs\\python\\python37\\lib\\site-packages\\matplotlib\\rcsetup.py:156: MatplotlibDeprecationWarning: axes.hold is deprecated, will be removed in 3.0\n",
      "  mplDeprecation)\n"
     ]
    },
    {
     "data": {
      "image/png": "[encoded data removed]",
      "text/plain": [
       "<Figure size 576x576 with 10 Axes>"
      ]
     },
     "metadata": {
      "needs_background": "light"
     },
     "output_type": "display_data"
    },
    {
     "data": {
      "image/png": "[encoded data removed]",
      "text/plain": [
       "<Figure size 216x216 with 1 Axes>"
      ]
     },
     "metadata": {},
     "output_type": "display_data"
    }
   ],
   "source": [
    "epsilon = 1.0 #@param\n",
    "num_steps = int(1e5) #@param\n",
    "\n",
    "# behavior policy\n",
    "behavior_policy = lambda qval: epsilon_greedy(qval, epsilon=epsilon)\n",
    "\n",
    "# agent\n",
    "agent = QLearning_AGENT(\n",
    "    number_of_states=grid._layout.size, \n",
    "    number_of_actions=4, \n",
    "    initial_state=grid.get_obs(),\n",
    "    behaviour_policy=behavior_policy,\n",
    "    step_size=0.1)\n",
    "\n",
    "# run experiment and get the value functions from agent\n",
    "run_experiment(grid, agent, num_steps)\n",
    "q = agent.q_values.reshape(grid._layout.shape + (4,))\n",
    "\n",
    "# visualise value functions\n",
    "print('AFTER {} STEPS ...'.format(num_steps))\n",
    "plot_action_values(q)\n",
    "\n",
    "# visualise the greedy policy\n",
    "plot_greedy_policy(grid, q)"
   ]
  },
  {
   "cell_type": "markdown",
   "metadata": {
    "colab_type": "text",
    "id": "iJastp_kcAZC"
   },
   "source": [
    "### Task 1.3.2 [Question, 4 points]\n",
    "\n",
    "Experiment with different levels of 'greediness'\n",
    "\n",
    "**Q** The default was $\\epsilon=1$, what does this correspond to?\n",
    "\n",
    "*Answer here* \n",
    "\n",
    "###Task 1.3.3 [Question, 6 points]\n",
    "\n",
    "**Q** Try also $\\epsilon =0.1, 0.5$. What do you observe? Does the behaviour policy affect the training in any way?\n",
    "\n",
    "*Answer here*"
   ]
  },
  {
   "cell_type": "markdown",
   "metadata": {
    "colab_type": "text",
    "id": "omzJxb5ds0Iq"
   },
   "source": [
    "## 1.4 Experience Replay\n",
    "\n",
    " Implement an agent that uses **Experience Replay** to learn action values, at each step:\n",
    "* select actions randomly\n",
    "* accumulate all observed transitions *(s, a, r, s')* in the environment in a *replay buffer*,\n",
    "* apply an online Q-learning \n",
    "* apply multiple Q-learning updates based on transitions sampled from the *replay buffer* (in addition to the online updates).\n",
    "\n",
    "**Initialize** $Q(s, a)$ for all s ∈ S and a ∈ A(s)\n",
    "\n",
    "**Loop forever**:\n",
    "\n",
    "1. $S \\gets{}$current (nonterminal) state\n",
    " \n",
    "2. $A \\gets{} \\text{random_action}(S)$\n",
    " \n",
    "3. Take action $A$; observe resultant reward $R$, discount $\\gamma$, and state, $S'$\n",
    "\n",
    "4. $Q(S, A) \\gets Q(S, A) + \\alpha (R + \\gamma \\max_a Q(S, a) − Q(S, A))$\n",
    "\n",
    "5. $\\text{ReplayBuffer}.\\text{append_transition}(S, A, R, \\gamma, S')$\n",
    "\n",
    "6. Loop repeat n times:\n",
    "\n",
    "  1. $S, A, R, \\gamma, S' \\gets \\text{ReplayBuffer}.\\text{sample_transition}()$\n",
    "  \n",
    "  4. $Q(S, A) \\gets Q(S, A) + \\alpha (R + \\gamma \\max_a Q(S', a) − Q(S, A))$"
   ]
  },
  {
   "cell_type": "markdown",
   "metadata": {
    "colab_type": "text",
    "id": "8o8k3VEDEuj9"
   },
   "source": [
    "###Task 1.4.1 [Coding, 14 points]\n",
    "\n",
    "Complete the code for the Q-learning Agent with replay buffer"
   ]
  },
  {
   "cell_type": "code",
   "execution_count": 58,
   "metadata": {
    "colab": {},
    "colab_type": "code",
    "id": "TB9e_reb2pJX"
   },
   "outputs": [],
   "source": [
    "#@title [Coding Task] Q-learning AGENT with a simple replay buffer\n",
    "class ReplayQ_AGENT(object):\n",
    "\n",
    "  def __init__(\n",
    "      self, number_of_states, number_of_actions, initial_state, \n",
    "      behaviour_policy, num_offline_updates=0, step_size=0.1):\n",
    "    self._q = np.zeros((number_of_states, number_of_actions))\n",
    "    self._state = initial_state\n",
    "    self._action = 0\n",
    "    self._number_of_states = number_of_states\n",
    "    self._number_of_actions = number_of_actions\n",
    "    self._num_offline_updates = num_offline_updates\n",
    "    self._step_size = step_size\n",
    "    self._behaviour_policy = behaviour_policy\n",
    "    \n",
    "    # initialise replay buffer\n",
    "    self._replay_buffer = []\n",
    "    \n",
    "  @property\n",
    "  def q_values(self):\n",
    "    return self._q\n",
    "\n",
    "  def step(self, reward, discount, next_state):\n",
    "    s = self._state\n",
    "    a = self._action\n",
    "    r = reward\n",
    "    g = discount\n",
    "    next_s = next_state\n",
    "    \n",
    "    # Online Q-value update\n",
    "    td_error = r + g * np.max(self._q[next_s]) - self._q[s, a]\n",
    "    self._q[s, a] += self._step_size * td_error\n",
    "    \n",
    "    # ============ YOUR CODE HERE =============\n",
    "    if self._num_offline_updates > 0:\n",
    "\n",
    "      # Store sample into replay buffer memory\n",
    "      \n",
    "    \n",
    "      # ============ YOUR CODE HERE =============\n",
    "      # Q-value table update based on online sample and offline samples\n",
    "      # This update is the same as the above (Q-learning Agent) but \n",
    "      # now we are going to be using samples from the replay buffer.\n",
    "      # Note: You can COPY this from the above Q_learning Agent\n",
    "      self._q[s, a] += self._step_size*(r + g*self._behaviour_policy(self._q[next_s]) - self._q[s, a])\n",
    "    \n",
    "      self._state = next_state\n",
    "      self._action = self._behaviour_policy(self._q[next_state])\n",
    "\n",
    "    # Get the action to send to execute in the environment and return it\n",
    "    self._state = next_state\n",
    "    self._action = self._behaviour_policy(self._q[next_state])\n",
    "    \n",
    "    return self._action"
   ]
  },
  {
   "cell_type": "markdown",
   "metadata": {
    "colab_type": "text",
    "id": "gPfrr4TbE8FY"
   },
   "source": [
    "**Try it!**"
   ]
  },
  {
   "cell_type": "code",
   "execution_count": 64,
   "metadata": {
    "colab": {},
    "colab_type": "code",
    "id": "F5vnFSWVDU3A"
   },
   "outputs": [
    {
     "name": "stdout",
     "output_type": "stream",
     "text": [
      "AFTER 10000 STEPS ...\n"
     ]
    },
    {
     "name": "stderr",
     "output_type": "stream",
     "text": [
      "c:\\users\\nicol\\appdata\\local\\programs\\python\\python37\\lib\\site-packages\\ipykernel_launcher.py:16: MatplotlibDeprecationWarning: pyplot.hold is deprecated.\n",
      "    Future behavior will be consistent with the long-time default:\n",
      "    plot commands add elements without first clearing the\n",
      "    Axes and/or Figure.\n",
      "  app.launch_new_instance()\n",
      "c:\\users\\nicol\\appdata\\local\\programs\\python\\python37\\lib\\site-packages\\matplotlib\\__init__.py:910: MatplotlibDeprecationWarning: axes.hold is deprecated. Please remove it from your matplotlibrc and/or style files.\n",
      "  mplDeprecation)\n",
      "c:\\users\\nicol\\appdata\\local\\programs\\python\\python37\\lib\\site-packages\\matplotlib\\rcsetup.py:156: MatplotlibDeprecationWarning: axes.hold is deprecated, will be removed in 3.0\n",
      "  mplDeprecation)\n"
     ]
    },
    {
     "data": {
      "image/png": "[encoded data removed]",
      "text/plain": [
       "<Figure size 576x576 with 10 Axes>"
      ]
     },
     "metadata": {
      "needs_background": "light"
     },
     "output_type": "display_data"
    },
    {
     "data": {
      "image/png": "[encoded data removed]",
      "text/plain": [
       "<Figure size 216x216 with 1 Axes>"
      ]
     },
     "metadata": {},
     "output_type": "display_data"
    }
   ],
   "source": [
    "num_offline_updates=30 #@param\n",
    "num_steps = int(1e4) #@param\n",
    "\n",
    "grid = Grid(discount=0.9, penalty_for_walls=-1.)\n",
    "\n",
    "behavior_policy = lambda qval: epsilon_greedy(qval, epsilon=epsilon)\n",
    "agent = ReplayQ_AGENT(\n",
    "    number_of_states=grid._layout.size, \n",
    "    number_of_actions=4, \n",
    "    initial_state=grid.get_obs(),\n",
    "    num_offline_updates=num_offline_updates, \n",
    "    step_size=0.1,\n",
    "    behaviour_policy=behavior_policy)\n",
    "\n",
    "# run experiment and get the value functions from agent\n",
    "run_experiment(grid, agent, num_steps)\n",
    "q = agent.q_values.reshape(grid._layout.shape + (4,))\n",
    "\n",
    "# visualize value functions\n",
    "print('AFTER {} STEPS ...'.format(num_steps))\n",
    "plot_action_values(q)\n",
    "\n",
    "# visualise the greedy policy\n",
    "plot_greedy_policy(grid, q)"
   ]
  },
  {
   "cell_type": "markdown",
   "metadata": {
    "colab_type": "text",
    "id": "Q5AWyVs16A-x"
   },
   "source": [
    "## 1.5 Further Analysis:  Data Efficiency"
   ]
  },
  {
   "cell_type": "markdown",
   "metadata": {
    "colab_type": "text",
    "id": "JWutE_URvT7K"
   },
   "source": [
    "**Online Q-learning**\n",
    "\n",
    "* $\\text{number_of_steps}$ = $1e3$ and $\\text{num_offline_updates}$ = $0$"
   ]
  },
  {
   "cell_type": "code",
   "execution_count": 65,
   "metadata": {
    "colab": {},
    "colab_type": "code",
    "id": "Iix-yw-MKS4Y"
   },
   "outputs": [
    {
     "data": {
      "image/png": "[encoded data removed]",
      "text/plain": [
       "<Figure size 576x576 with 10 Axes>"
      ]
     },
     "metadata": {
      "needs_background": "light"
     },
     "output_type": "display_data"
    }
   ],
   "source": [
    "grid = Grid()\n",
    "agent = ReplayQ_AGENT(\n",
    "  grid._layout.size, 4, grid.get_obs(),\n",
    "  random_policy, num_offline_updates=0, step_size=0.1)\n",
    "run_experiment(grid, agent, int(1e3))\n",
    "q = agent.q_values.reshape(grid._layout.shape + (4,))\n",
    "plot_action_values(q)"
   ]
  },
  {
   "cell_type": "markdown",
   "metadata": {
    "colab_type": "text",
    "id": "KZXsXJYBgC_N"
   },
   "source": [
    "**Experience Replay**\n",
    "\n",
    "* $\\text{number_of_steps}$ = $1e3$ and $\\text{num_offline_updates}$ = $30$"
   ]
  },
  {
   "cell_type": "code",
   "execution_count": 66,
   "metadata": {
    "colab": {},
    "colab_type": "code",
    "id": "ASml5uAeIl4A"
   },
   "outputs": [
    {
     "data": {
      "image/png": "[encoded data removed]",
      "text/plain": [
       "<Figure size 576x576 with 10 Axes>"
      ]
     },
     "metadata": {
      "needs_background": "light"
     },
     "output_type": "display_data"
    }
   ],
   "source": [
    "grid = Grid()\n",
    "agent = ReplayQ_AGENT(\n",
    "  grid._layout.size, 4, grid.get_obs(),\n",
    "  random_policy, num_offline_updates=30, step_size=0.1)\n",
    "run_experiment(grid, agent, int(1e3))\n",
    "q = agent.q_values.reshape(grid._layout.shape + (4,))\n",
    "plot_action_values(q)"
   ]
  },
  {
   "cell_type": "markdown",
   "metadata": {
    "colab_type": "text",
    "id": "aKV7aSsIFU8q"
   },
   "source": [
    "### Task 1.5.1 [Question, 8 points] \n",
    "\n",
    "**Q** Why does ExperienceReplay obtain a better solution, considering it has the same amount of actual interactions with the environment as online Q-learning?\n",
    "\n",
    "*Answer here*\n",
    "\n"
   ]
  },
  {
   "cell_type": "markdown",
   "metadata": {
    "colab_type": "text",
    "id": "g-YdF57kT5Tt"
   },
   "source": [
    "# RL Lab 2: REINFORCE Agent with Function Approximation \n",
    "\n",
    "## REINFORCE Agent\n",
    "\n",
    "We are still trying to solve the control problem: estimate the policy that gives us a better long term (discounted) return:\n",
    "\n",
    "$$G_t = \\sum_{k=t+1} \\gamma^{k-t-1}R_k $$\n",
    "\n",
    "Objective:\n",
    "$$J(\\theta) = \\mathbb{E}_{\\pi_{\\theta}} [G_t]$$\n",
    "\n",
    "\n",
    "Using the log-derivative trick, we can obtain the gradient of $J(\\theta)$ with respect to the policy parameters $\\theta$ as:\n",
    "\n",
    "$$\\nabla_{\\theta} J = \\mathbb{E}_{{\\pi_{\\theta}}}[\\sum_{t}\\nabla_{\\theta}\\log \\pi_{\\theta}(s_t,a_t) G_t]$$\n",
    "\n",
    "We estimate this gradient via sampling episodes in the enviroment.\n",
    "\n",
    "\n",
    "\n",
    "## Functional Approximation involved\n",
    "**Approximate** $ \\pi(s,a)$ for all s ∈ S and a ∈ A(s) via a functional approximator (in our case a sonnet/tensorflow model) and learn this function directly. In the second part we will introduce a baseline in the form a value function $V(s)$ that will be represented by an additional functional approximator.\n",
    "\n",
    "\n",
    "### Reference and Further Reading\n",
    "For futher information and refresher on this algorithm and general policy-gradient approached, please check out Chapter 13: Policy Gradient Methods in Sutton & Barto's  book.Models covered in this tutorial: \n",
    "\n",
    "13.3 REINFORCE: Monte Carlo Policy Gradient (2.1)\n",
    "\n",
    "13.4 REINFORCE with Baseline (2.2)"
   ]
  },
  {
   "cell_type": "markdown",
   "metadata": {
    "colab_type": "text",
    "id": "N8b_qEawj35Y"
   },
   "source": [
    "## 2.1 (Vanilla) REINFORCE\n"
   ]
  },
  {
   "cell_type": "markdown",
   "metadata": {
    "colab_type": "text",
    "id": "VU1aBWr4u4tc"
   },
   "source": [
    "### 2.1.1 Build agent\n",
    "This is slipt into two part:\n",
    "* Build the Policy functional approximator\n",
    "* Build the REINFORCE Agent\n",
    "\n",
    "Note: In the code below we will be using (by default) very simple transformations (linear layers) as this colab is design to focus on the RL algorithm. Please check out previous colab from the summer school for more reference on specifying more interesting functional approximation instances (convolutional nets, LSTM-s, etc) and feel free to experiment with other, more intricated networks. Whenever designing these, always try to keep in mind what are the properties and requirements for the functions you are trying to approximated -- e.g. whether or not you need longer term dependencies, or whether the current observation is sufficient to estimate the target values/intended transformations."
   ]
  },
  {
   "cell_type": "code",
   "execution_count": 67,
   "metadata": {
    "cellView": "both",
    "colab": {},
    "colab_type": "code",
    "id": "nvBpu_fbZtsL"
   },
   "outputs": [],
   "source": [
    "#@title Helper code: Episode Logging\n",
    "# Book keeping of some useful (episode) statistics\n",
    "Logging_EpStats = namedtuple(\"Logging_EpStats\", \n",
    "                             [\"episode_lengths\", \"episode_rewards\"])   \n",
    "\n",
    "# We are going to be storing transitions encountered in the episode to use \n",
    "# later in the update (at the end of the episode, for REINFORCE)\n",
    "Transition = namedtuple(\"Transition\", [\"state\", \"action\", \"reward\", \"next_state\", \"discount\"])"
   ]
  },
  {
   "cell_type": "markdown",
   "metadata": {
    "colab_type": "text",
    "id": "VpzmbhlAGG9-"
   },
   "source": [
    "### Task 2.1.1 [Coding, 14 points]\n",
    "\n",
    "Complete the code for the Policy function approximation"
   ]
  },
  {
   "cell_type": "code",
   "execution_count": 70,
   "metadata": {
    "cellView": "code",
    "colab": {},
    "colab_type": "code",
    "id": "_nFZqgPnne1U"
   },
   "outputs": [],
   "source": [
    "#@title [Coding Task] Policy Approximator\n",
    "#Define a class that build our policy approximation\n",
    "class PolicyApproximator():\n",
    "    \"\"\"\n",
    "    Policy Function approximator. \n",
    "    \"\"\"\n",
    "    \n",
    "    def __init__(self, num_actions=4, learning_rate=0.01, scope=\"policy_approximation\"):\n",
    "        with tf.variable_scope(scope):\n",
    "            # This is a function of the state V(state)\n",
    "            self.state = tf.placeholder(tf.int32, [], \"state\")\n",
    "            \n",
    "            # Embbed the state into a one-hot coding\n",
    "            state_one_hot = tf.one_hot(self.state, int(grid._layout.size))\n",
    "            \n",
    "            # We are be evaluating the policy of a (previously) selected action\n",
    "            self.action = tf.placeholder(dtype=tf.int32, name=\"action\")\n",
    "            \n",
    "            # Very simple (linear) transformation of the state to \n",
    "            # \\pi_{\\theta}(a|s) -- this is can be anything you think\n",
    "            # your solution class needs to span the intermediate sol.\n",
    "            self.output_layer = tf.contrib.layers.fully_connected(\n",
    "                inputs=tf.expand_dims(state_one_hot, 0),\n",
    "                num_outputs=num_actions,\n",
    "                activation_fn=None,\n",
    "                weights_initializer=tf.zeros_initializer)\n",
    "            \n",
    "\n",
    "            # ============ YOUR CODE HERE =============\n",
    "            # Compute pi(a=self.action|s) for a selected action\n",
    "            # self.action_probs =\n",
    "            self.action_probs = tf.nn.softmax(self.output_layer)\n",
    "            \n",
    "            # Define the loss\n",
    "            # self.loss = \n",
    "            neg_log_prob = tf.nn.sparse_softmax_cross_entropy_with_logits(logits = output_layer)\n",
    "            self.loss = tf.reduce_mean(neg_log_prob * self.action)\n",
    "            # Define an optimizer\n",
    "            self.optimizer = tf.train.AdamOptimizer(learning_rate=learning_rate)\n",
    "            \n",
    "            # Define the training operation\n",
    "            self.train_op = self.optimizer.minimize(\n",
    "                self.loss, global_step=tf.contrib.framework.get_global_step())\n",
    "    \n",
    "    def predict(self, state, sess=None):\n",
    "      # ============ YOUR CODE HERE =============\n",
    "      sess = sess or tf.get_default_session()\n",
    "      # compute the probabilities of all actions given \n",
    "      # this state \\pi(a|s) for all a.\n",
    "      #pi_a_s = \n",
    "      pi_a_s = self.sess.run(self.action_probs, feed_dict = state)\n",
    "\n",
    "      return pi_a_s\n",
    "\n",
    "    def update(self, state, target, action, sess=None):\n",
    "      # ============ YOUR CODE HERE =============\n",
    "      sess = sess or tf.get_default_session()\n",
    "      # perform training/operation operation\n",
    "      # compute and return the loss\n",
    "      return loss"
   ]
  },
  {
   "cell_type": "markdown",
   "metadata": {
    "colab_type": "text",
    "id": "hyJNk3WPGVBr"
   },
   "source": [
    "### Task 2.1.2 [Coding, 12 points]\n",
    "\n",
    "Complete the code for the REINFORCE Agent"
   ]
  },
  {
   "cell_type": "code",
   "execution_count": 69,
   "metadata": {
    "cellView": "both",
    "colab": {},
    "colab_type": "code",
    "id": "senpTa9-p3FO"
   },
   "outputs": [],
   "source": [
    "#@title [Coding Task] REINFORCE AGENT\n",
    "class REINFORCE_AGENT(object):\n",
    "  \n",
    "  def __init__(\n",
    "      self, number_of_states, number_of_actions, initial_state, \n",
    "      policy_learning_rate=0.01, const_discount=1.0):\n",
    "    \n",
    "    self._policy_approximator = PolicyApproximator(num_actions=number_of_actions,\n",
    "                                                   learning_rate=policy_learning_rate)\n",
    "    self._constant_discount = const_discount \n",
    "    \n",
    "    # initial state/action\n",
    "    self._state = initial_state\n",
    "    self._action = 0\n",
    "    \n",
    "  def step(self, state):\n",
    "    # ============ YOUR CODE HERE =============\n",
    "    # Get the action probabilities \n",
    "    # action_probs = \n",
    "    \n",
    "    # Select you action\n",
    "    # action = \n",
    "    \n",
    "    # Update the internal variables\n",
    "    self._action = action\n",
    "    self._state = state\n",
    "    return self._action\n",
    "    \n",
    "  def update(self, episode):\n",
    "    # go over the all experience collected in this episode\n",
    "    for t, transition in enumerate(episode):\n",
    "      \n",
    "      # ============ YOUR CODE HERE =============\n",
    "      # Compute the (discounted) return\n",
    "      # discounted_return = \n",
    "      \n",
    "      # Update our policy estimator based on return\n",
    "      # self._policy_approximator.update(...)\n",
    "      \n",
    "      pass"
   ]
  },
  {
   "cell_type": "code",
   "execution_count": 0,
   "metadata": {
    "colab": {},
    "colab_type": "code",
    "id": "KL9i62GGhZno"
   },
   "outputs": [],
   "source": [
    "#@title [IMPORTANT] Run REINFORCE agent with an environment 'env'\n",
    "# Description:\n",
    "# Simple experiment run loop (similar to the one above for tabular experiments)\n",
    "# -----------------------------------------------------------------------------\n",
    "# Expected behaviour \n",
    "# 1) For each episode repeat:\n",
    "#  - Interact with the environment (get observation and discount)\n",
    "#  - Store transition\n",
    "# 2) At the end of the episode, use the stored transition to update agent\n",
    "# Repeat for num_episode\n",
    "# -----------------------------------------------------------------------------\n",
    "# Additional: Log and return episode stastics for plotting later on\n",
    "# -----------------------------------------------------------------------------\n",
    "def run_reinforce(env, agent, num_episodes, \n",
    "                  MAXSTEPS_PER_EPISODE=100, \n",
    "                  REPORT_EVERY_N_STEPS=20):\n",
    "    \"\"\"\n",
    "    Run REINFORCE agent in a MDP especified by 'env'. \n",
    "    (Any agent that follows the same logic and can be plugged in though.)\n",
    "    \n",
    "    Agent requirements:\n",
    "      agent.step(state)\n",
    "      agent.update(episode)\n",
    "    \n",
    "    Enviroment requirements:\n",
    "      env.step(action)\n",
    "    \n",
    "    -----------------------------------------------------------------------\n",
    "    Inputs:\n",
    "        env: gridworld\n",
    "        agent: REINFORCE agent (or alternative)\n",
    "        num_episodes: Number of episodes to run for\n",
    "    \n",
    "    Returns:\n",
    "        Logging_EpStats: episode statistics (episode_length & episode_reward)\n",
    "    \"\"\"\n",
    "\n",
    "    # Book-keeping of some useful (episode) statistics\n",
    "    stats = Logging_EpStats(\n",
    "        episode_lengths=np.zeros(num_episodes),\n",
    "        episode_rewards=np.zeros(num_episodes))    \n",
    "    \n",
    "    for i_episode in range(num_episodes):\n",
    "      \n",
    "        # Reset the environment and pick the first action\n",
    "        action = 0 #agent.initial_action()\n",
    "        reward, discount, next_state = env.step(action)\n",
    "        \n",
    "        episode = []\n",
    "        \n",
    "        # One step in the environment\n",
    "        state = next_state\n",
    "        for t in range(MAXSTEPS_PER_EPISODE): \n",
    "            \n",
    "            # Take a step\n",
    "            action = agent.step(state)\n",
    "            reward, discount, next_state = env.step(action)\n",
    "            \n",
    "            # Keep track of the transition\n",
    "            episode.append(Transition(\n",
    "              state=state, action=action, reward=reward, next_state=next_state, discount=discount))\n",
    "            \n",
    "            # Optional: Logging and reporting (live) statistics for this epsiode\n",
    "            \n",
    "            # Update statistics\n",
    "            stats.episode_rewards[i_episode] += reward\n",
    "            stats.episode_lengths[i_episode] = t\n",
    "            \n",
    "            # (Live) reporting\n",
    "            if ((discount == 0) | (t==MAXSTEPS_PER_EPISODE-1)) & (i_episode%REPORT_EVERY_N_STEPS==0):\n",
    "                # Print out which step we're on, useful for debugging\n",
    "                print(\"Episode {}/{}: Length {} ({})\".format(\n",
    "                i_episode + 1, num_episodes, t, stats.episode_rewards[i_episode - 1]))\n",
    "\n",
    "            if discount == 0: # this signals end of the episode          \n",
    "                break\n",
    "                \n",
    "            state = next_state\n",
    "    \n",
    "        # Go through the episode and make policy updates\n",
    "        agent.update(episode)\n",
    "      \n",
    "    return stats"
   ]
  },
  {
   "cell_type": "markdown",
   "metadata": {
    "colab_type": "text",
    "id": "dDAgK3pUvLuk"
   },
   "source": [
    "### 2.1.2. Run experiment\n",
    " Ready go! Let's test our agent!"
   ]
  },
  {
   "cell_type": "code",
   "execution_count": 0,
   "metadata": {
    "colab": {},
    "colab_type": "code",
    "id": "Y2lyi-FZhZnr"
   },
   "outputs": [],
   "source": [
    "# initialise an instance of the environment\n",
    "grid = Grid(discount=1.0)"
   ]
  },
  {
   "cell_type": "code",
   "execution_count": 0,
   "metadata": {
    "colab": {},
    "colab_type": "code",
    "id": "RZ3X6hZohZnu"
   },
   "outputs": [],
   "source": [
    "tf.reset_default_graph()\n",
    "\n",
    "global_step = tf.Variable(0, name=\"global_step\", trainable=False)\n",
    "\n",
    "agent = REINFORCE_AGENT(number_of_states=grid._layout.size,\n",
    "                        number_of_actions=4, \n",
    "                        initial_state=grid.get_obs(), \n",
    "                        policy_learning_rate=0.01, \n",
    "                        const_discount=1.0)\n",
    "\n",
    "with tf.Session() as sess:\n",
    "    sess.run(tf.initialize_all_variables())\n",
    "    # Note, due to randomness in the policy the number of episodes you need to learn a good\n",
    "    # policy may vary. ~500-1000 should be okay\n",
    "    stats = run_reinforce(grid, agent, 500)"
   ]
  },
  {
   "cell_type": "code",
   "execution_count": 0,
   "metadata": {
    "colab": {},
    "colab_type": "code",
    "id": "b9w_ylGcjVnZ"
   },
   "outputs": [],
   "source": [
    "plot_stats(stats, window=10)"
   ]
  },
  {
   "cell_type": "markdown",
   "metadata": {
    "colab_type": "text",
    "id": "GOxqqWyPf9E5"
   },
   "source": [
    "## 2.2 **Adding** a baseline (via $V(s)$) "
   ]
  },
  {
   "cell_type": "markdown",
   "metadata": {
    "colab_type": "text",
    "id": "SfIkMhcDupVN"
   },
   "source": [
    "### 2.2.1. Build the Agent\n",
    "This is similar to the above agent, but now we have an additional problem of estimating/computing the value function $v(s)$.\n",
    "\n",
    "Your tasks will be:\n",
    "* Implement the value function approximator: prediction/update\n",
    "* Adjust the above agent to include this baseline \n",
    "(Note: make sure you remember to update both your value and policy approx.)"
   ]
  },
  {
   "cell_type": "markdown",
   "metadata": {
    "colab_type": "text",
    "id": "PVYymo9mGpjS"
   },
   "source": [
    "### Task 2.2.1 [Coding, 12 points]\n",
    "\n",
    "Complete the code for the value function approximator\n"
   ]
  },
  {
   "cell_type": "code",
   "execution_count": 0,
   "metadata": {
    "cellView": "both",
    "colab": {},
    "colab_type": "code",
    "id": "jTC91ChZjf34"
   },
   "outputs": [],
   "source": [
    "#@title [Coding Task] Value function approximator \n",
    "class ValueApproximator():\n",
    "    \"\"\"\n",
    "    Value Function approximator. \n",
    "    \"\"\"\n",
    "    \n",
    "    def __init__(self, learning_rate=0.1, scope=\"value_approximation\"):\n",
    "        with tf.variable_scope(scope):\n",
    "          \n",
    "            # This is a function of the state V(state)\n",
    "            self.state = tf.placeholder(tf.int32, [], \"state\")\n",
    "            # Embbed the state into a one-hot coding\n",
    "            state_one_hot = tf.one_hot(self.state, int(grid._layout.size))\n",
    "            \n",
    "            # ============ YOUR CODE HERE =============\n",
    "            # Target Q-value function\n",
    "            # self.target = ...\n",
    "            \n",
    "            # Very simple (linear) transformation of the state to \n",
    "            # the value function V_{\\theta}(s) \n",
    "            \n",
    "            self.output_layer = tf.contrib.layers.fully_connected(\n",
    "                inputs=tf.expand_dims(state_one_hot, 0),\n",
    "                num_outputs=1,\n",
    "                activation_fn=None,\n",
    "                weights_initializer=tf.zeros_initializer)\n",
    "            \n",
    "            self.value_estimate = tf.squeeze(self.output_layer)\n",
    "            \n",
    "            # ============ YOUR CODE HERE =============\n",
    "            # Define the loss\n",
    "            # self.loss = \n",
    "            \n",
    "            # Define an optimizer\n",
    "            self.optimizer = tf.train.AdamOptimizer(learning_rate=learning_rate)\n",
    "            \n",
    "            # Define the training operation\n",
    "            self.train_op = self.optimizer.minimize(\n",
    "                self.loss, global_step=tf.contrib.framework.get_global_step())        \n",
    "    \n",
    "    def predict(self, state, sess=None):\n",
    "      sess = sess or tf.get_default_session()\n",
    "      # ============ YOUR CODE HERE =============\n",
    "      # v_s = \n",
    "      return v_s\n",
    "\n",
    "    def update(self, state, target, sess=None):\n",
    "      sess = sess or tf.get_default_session()\n",
    "      # ============ YOUR CODE HERE =============\n",
    "      # loss =\n",
    "      return loss"
   ]
  },
  {
   "cell_type": "markdown",
   "metadata": {
    "colab_type": "text",
    "id": "T87heiQ6G4N-"
   },
   "source": [
    "### Task 2.2.2 [Coding, 12 points]\n",
    "\n",
    "Complete the code for the REINFORCE agent with baseline"
   ]
  },
  {
   "cell_type": "code",
   "execution_count": 0,
   "metadata": {
    "cellView": "both",
    "colab": {},
    "colab_type": "code",
    "id": "_gWaK0vctfoG"
   },
   "outputs": [],
   "source": [
    "#@title [Coding Task] REINFORCE with baseline via estimating V(s)\n",
    "class REINFORCE_AGENT(object):\n",
    "  \n",
    "  def __init__(\n",
    "      self, number_of_states, number_of_actions, initial_state, \n",
    "      policy_learning_rate=0.01, value_learning_rate=0.1, const_discount=1.0,\n",
    "      use_baseline=True):\n",
    "    \n",
    "    self._value_approximator  = ValueApproximator(learning_rate=value_learning_rate)\n",
    "    self._policy_approximator = PolicyApproximator(learning_rate=policy_learning_rate)\n",
    "    self._constant_discount = const_discount \n",
    "    \n",
    "    # initial state/action\n",
    "    self._state = initial_state\n",
    "    self._action = 0\n",
    "    self._use_baseline = use_baseline\n",
    "    \n",
    "  def step(self, state):\n",
    "    # ============ YOUR CODE HERE =============\n",
    "    # Note: you an COPY this from above\n",
    "    # Select the action to send to the environment\n",
    "    self._action = action\n",
    "    self._state = state\n",
    "    return self._action\n",
    "    \n",
    "  def update(self, episode):\n",
    "    \n",
    "    # go over the all experience collected in this episode\n",
    "    for t, transition in enumerate(episode):\n",
    "      # ============ YOUR CODE HERE =============\n",
    "      # Compute the discounted return\n",
    "      # discounted_return = \n",
    "      \n",
    "      if self._use_baseline:\n",
    "        # ============ YOUR CODE HERE =============\n",
    "        # Compute baseline/advantage\n",
    "        # baseline = \n",
    "        \n",
    "        # Compute advantage\n",
    "        # advantage = \n",
    "        \n",
    "        # Update our value estimator\n",
    "        # self._value_approximator.update(...)\n",
    "        \n",
    "        # Update our policy estimator\n",
    "        # self._policy_approximator.update(...)\n",
    "        pass\n",
    "      else:\n",
    "        # Update our policy estimator based on return\n",
    "        # self._policy_approximator.update(...)\n",
    "        pass\n",
    "    "
   ]
  },
  {
   "cell_type": "markdown",
   "metadata": {
    "colab_type": "text",
    "id": "k10bD7O9ujp4"
   },
   "source": [
    "### 2.2.2. Run experiment"
   ]
  },
  {
   "cell_type": "code",
   "execution_count": 0,
   "metadata": {
    "colab": {},
    "colab_type": "code",
    "id": "1JXfjIJYsGzF"
   },
   "outputs": [],
   "source": [
    "grid = Grid(discount=1.0)"
   ]
  },
  {
   "cell_type": "code",
   "execution_count": 0,
   "metadata": {
    "colab": {},
    "colab_type": "code",
    "id": "lsKIzTzY81_9"
   },
   "outputs": [],
   "source": [
    "tf.reset_default_graph()\n",
    "\n",
    "global_step = tf.Variable(0, name=\"global_step\", trainable=False)\n",
    "\n",
    "agent = REINFORCE_AGENT(number_of_states=grid._layout.size,\n",
    "                        number_of_actions=4, \n",
    "                        initial_state=grid.get_obs(), \n",
    "                        policy_learning_rate=0.01, \n",
    "                        value_learning_rate=0.1, \n",
    "                        const_discount=1.0,\n",
    "                        use_baseline=True)\n",
    "\n",
    "with tf.Session() as sess:\n",
    "    sess.run(tf.initialize_all_variables())\n",
    "    # Note, due to randomness in the policy the number of episodes you need to learn a good\n",
    "    # policy may vary. ~2000-5000 seemed to work well.\n",
    "    stats = run_reinforce(grid, agent, 500)"
   ]
  },
  {
   "cell_type": "code",
   "execution_count": 0,
   "metadata": {
    "colab": {},
    "colab_type": "code",
    "id": "ZFg1r7wlJp1H"
   },
   "outputs": [],
   "source": [
    "plot_stats(stats, window=10)"
   ]
  },
  {
   "cell_type": "markdown",
   "metadata": {
    "colab_type": "text",
    "id": "9e2nE_3BqTWa"
   },
   "source": [
    "### Task 2.2.3 [Question, 8 points]\n",
    "\n",
    "Consider the way in which function approximation was implemented for this agent. How would you say its performance would compare to that of a Tabular agent (after both have converged)? Why?\n",
    "\n",
    "*Answer here.*"
   ]
  },
  {
   "cell_type": "code",
   "execution_count": 0,
   "metadata": {
    "colab": {},
    "colab_type": "code",
    "id": "2iC_ADgLxxXL"
   },
   "outputs": [],
   "source": []
  }
 ],
 "metadata": {
  "colab": {
   "collapsed_sections": [
    "9v_SYckYfv5G",
    "rNuohp44N00i",
    "ztQEQvnKh2t6",
    "ALrRR76eAd6u",
    "cOu9RZY3AkF1",
    "B8oKd0oyvNcH",
    "5XEP4mf4Jx70",
    "dbODeOkjyUEm",
    "WxjNg2_O-Dct",
    "8cqpXmZta4l-",
    "iJastp_kcAZC",
    "omzJxb5ds0Iq",
    "Q5AWyVs16A-x",
    "VU1aBWr4u4tc",
    "dDAgK3pUvLuk",
    "SfIkMhcDupVN",
    "k10bD7O9ujp4"
   ],
   "name": "DRL2019_Assignment2.ipynb",
   "provenance": [],
   "toc_visible": true,
   "version": "0.3.2"
  },
  "kernelspec": {
   "display_name": "Python 3",
   "language": "python",
   "name": "python3"
  },
  "language_info": {
   "codemirror_mode": {
    "name": "ipython",
    "version": 3
   },
   "file_extension": ".py",
   "mimetype": "text/x-python",
   "name": "python",
   "nbconvert_exporter": "python",
   "pygments_lexer": "ipython3",
   "version": "3.7.0"
  }
 },
 "nbformat": 4,
 "nbformat_minor": 1
}
